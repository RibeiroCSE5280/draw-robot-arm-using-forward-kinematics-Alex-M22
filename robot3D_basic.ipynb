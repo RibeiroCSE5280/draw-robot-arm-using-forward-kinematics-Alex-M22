{
 "cells": [
  {
   "cell_type": "markdown",
   "id": "eb82b461",
   "metadata": {},
   "source": [
    "![](./robotArm01.png)\n",
    "*Figure 1*: A two-dimensional articulated arm. The articulated structure has 3 local coordinate frames each one centered at a joint. For each part, the local x-axis is aligned with the part.  \n",
    "\n",
    "Consider the arm structure shown in Figure 1. Assume the following values for the arm configuration: \n",
    "- The location of the first joint (i.e., the one that is attached to the ground support) is ${\\bf p}_1 = \\left(3,2\\right)^\\mathsf{T}$. \n",
    "- The lengths of the parts are $L_1 = 5$ and  $L_2 = 8$."
   ]
  },
  {
   "cell_type": "code",
   "execution_count": 1,
   "id": "57137f0a",
   "metadata": {},
   "outputs": [],
   "source": [
    "\"\"\"\n",
    "Spheres and cylinders\n",
    "\"\"\"\n",
    "# (adapted from http://www.glowscript.org)\n",
    "from vedo import *\n",
    "\n",
    "settings.default_backend = 'ipyvtk' # or 2d, ipyvtk, ipygany, panel, itk, or vtk"
   ]
  },
  {
   "cell_type": "code",
   "execution_count": 2,
   "id": "6ca17c82",
   "metadata": {
    "tags": []
   },
   "outputs": [],
   "source": [
    "# Color of robot arm\n",
    "robotColor = \"green\"\n",
    "jointColor = \"white\""
   ]
  },
  {
   "cell_type": "code",
   "execution_count": 3,
   "id": "7648e048",
   "metadata": {},
   "outputs": [],
   "source": [
    "def RotationMatrix(theta, axis_name):\n",
    "    \"\"\" calculate single rotation of \\(\\theta\\) matrix around x,y or z\n",
    "        code from: https://programming-surgeon.com/en/euler-angle-python-en/\n",
    "    input\n",
    "        theta = rotation angle(degrees)\n",
    "        axis_name = 'x', 'y' or 'z'\n",
    "    output\n",
    "        3x3 rotation matrix\n",
    "    \"\"\"\n",
    "\n",
    "    c = np.cos(theta * np.pi / 180)\n",
    "    s = np.sin(theta * np.pi / 180)\n",
    "    if axis_name =='x':\n",
    "        rotation_matrix = np.array([[1, 0,  0],\n",
    "                                    [0, c, -s],\n",
    "                                    [0, s,  c]])\n",
    "    if axis_name =='y':\n",
    "        rotation_matrix = np.array([[ c,  0, s],\n",
    "                                    [ 0,  1, 0],\n",
    "                                    [-s,  0, c]])\n",
    "    elif axis_name =='z':\n",
    "        rotation_matrix = np.array([[c, -s, 0],\n",
    "                                    [s,  c, 0],\n",
    "                                    [0,  0, 1]])\n",
    "    return rotation_matrix\n"
   ]
  },
  {
   "cell_type": "code",
   "execution_count": 4,
   "id": "a9b7ed29",
   "metadata": {},
   "outputs": [],
   "source": [
    "def createCoordinateFrameMesh():\n",
    "    \"\"\"Returns the mesh representing a coordinate frame\n",
    "    Args:\n",
    "      No input args\n",
    "    Returns:\n",
    "      F: vedo.mesh object (arrows for axis)\n",
    "      \n",
    "    \"\"\"     \n",
    "    \n",
    "    _shaft_radius = 0.05\n",
    "    _head_radius = 0.10\n",
    "    _alpha = 1\n",
    "    \n",
    "    \n",
    "    # x-axis as an arrow  \n",
    "    x_axisArrow = Arrow(\n",
    "                        start_pt=(0, 0, 0),\n",
    "                        end_pt=(1, 0, 0),\n",
    "                        s=None,\n",
    "                        shaft_radius=_shaft_radius,\n",
    "                        head_radius=_head_radius,\n",
    "                        head_length=None,\n",
    "                        res=12,\n",
    "                        c='red',\n",
    "                        alpha=_alpha\n",
    "    )\n",
    "\n",
    "    # y-axis as an arrow  \n",
    "    y_axisArrow = Arrow(\n",
    "                        start_pt=(0, 0, 0),\n",
    "                        end_pt=(0, 1, 0),\n",
    "                        s=None,\n",
    "                        shaft_radius=_shaft_radius,\n",
    "                        head_radius=_head_radius,\n",
    "                        head_length=None,\n",
    "                        res=12,\n",
    "                        c='green',\n",
    "                        alpha=_alpha\n",
    "    )\n",
    "\n",
    "    # z-axis as an arrow  \n",
    "    z_axisArrow = Arrow(\n",
    "                        start_pt=(0, 0, 0),\n",
    "                        end_pt=(0, 0, 1),\n",
    "                        s=None,\n",
    "                        shaft_radius=_shaft_radius,\n",
    "                        head_radius=_head_radius,\n",
    "                        head_length=None,\n",
    "                        res=12,\n",
    "                        c='blue',\n",
    "                        alpha=_alpha\n",
    "    )\n",
    "    \n",
    "    originDot = Sphere(pos=[0,0,0], \n",
    "                       c=\"black\", \n",
    "                       r=0.10)\n",
    "\n",
    "\n",
    "    # Combine the axes together to form a frame\n",
    "    F = x_axisArrow + y_axisArrow + z_axisArrow + originDot\n",
    "    \n",
    "    \n",
    "    return F"
   ]
  },
  {
   "cell_type": "code",
   "execution_count": 5,
   "id": "0fb477f9",
   "metadata": {},
   "outputs": [],
   "source": [
    "def getLocalFrameMatrix(R_ij, t_ij): \n",
    "    \"\"\"Returns the matrix representing the local frame\n",
    "    Args:\n",
    "      R_ij: rotation of Frame j w.r.t. Frame i \n",
    "      t_ij: translation of Frame j w.r.t. Frame i \n",
    "    Returns:\n",
    "      T_ij: Matrix of Frame j w.r.t. Frame i. \n",
    "      \n",
    "    \"\"\"             \n",
    "    # Rigid-body transformation [ R t ]\n",
    "    T_ij = np.block([[R_ij,                t_ij],\n",
    "                     [np.zeros((1, 3)),       1]])\n",
    "    print('\\n')\n",
    "    print('T_ij = ', np.array2string(T_ij, prefix='        '))\n",
    "    \n",
    "    return T_ij"
   ]
  },
  {
   "cell_type": "code",
   "execution_count": 6,
   "id": "1efccc84",
   "metadata": {},
   "outputs": [],
   "source": [
    "plt = Plotter()\n",
    "axes = Axes(xrange=(0,20), yrange=(-2,6), zrange=(0,6))\n",
    "\n",
    "L1 = 5   # Length of link 1\n",
    "L2 = 8   # Length of link 2\n",
    "\n",
    "phi1 = 15     # Rotation angle of part 1 in degrees\n",
    "phi2 = -30    # Rotation angle of part 2 in degrees\n",
    "phi3 = 0      # Rotation angle of the end-effector in degrees\n"
   ]
  },
  {
   "cell_type": "markdown",
   "id": "0f27f826",
   "metadata": {},
   "source": [
    "### Construct a local frame and its local transformation matrix\n",
    "Construct the matrix representing Frame ${\\mathcal F}\\{1\\}$. All local frames are initially represented w.r.t. to their previous frame, i.e., The matrix of Frame ${\\mathcal F}\\{i\\}$ is written w.r.t. Frame ${\\mathcal F}\\{i-1\\}$. In the case of Frame ${\\mathcal F}\\{1\\}$, we write it w.r.t. Frame ${\\mathcal F}\\{0\\}$, which is the global or world frame. "
   ]
  },
  {
   "cell_type": "code",
   "execution_count": 7,
   "id": "8b123c70",
   "metadata": {},
   "outputs": [
    {
     "name": "stdout",
     "output_type": "stream",
     "text": [
      "\n",
      "\n",
      "T_ij =  [[ 0.96592583 -0.25881905  0.          3.        ]\n",
      "         [ 0.25881905  0.96592583  0.          2.        ]\n",
      "         [ 0.          0.          1.          0.        ]\n",
      "         [ 0.          0.          0.          1.        ]]\n"
     ]
    },
    {
     "data": {
      "application/vnd.jupyter.widget-view+json": {
       "model_id": "ee979aebf73c4265b7c10e48a78e2f60",
       "version_major": 2,
       "version_minor": 0
      },
      "text/plain": [
       "ViewInteractiveWidget(height=960, layout=Layout(height='auto', width='100%'), width=960)"
      ]
     },
     "metadata": {},
     "output_type": "display_data"
    }
   ],
   "source": [
    "# Construct the matrix for Frame 1 (written w.r.t. to Frame 0, which is the previous frame)\n",
    "# Frame 1 is the base of the arm.  \n",
    "\n",
    "R_01 = RotationMatrix(phi1, axis_name = 'z')   # Rotation matrix\n",
    "p1   = np.array([[3],[2], [0.0]])              # Frame's origin (w.r.t. previous frame)\n",
    "t_01 = p1                                      # Translation vector\n",
    "\n",
    "# Matrix of Frame 1 w.r.t. Frame 0 (i.e., the world frame)\n",
    "T_01 = getLocalFrameMatrix(R_01, t_01)\n",
    "\n",
    "# Create the coordinate frame mesh and transform\n",
    "Frame1Arrows = createCoordinateFrameMesh()\n",
    "\n",
    "# Now, let's create a cylinder and add it to the local coordinate frame\n",
    "link1_mesh = Cylinder(r=0.4, \n",
    "                      height=L1, \n",
    "                      pos = (L1/2,0,0),\n",
    "                      c=\"yellow\", \n",
    "                      alpha=.8, \n",
    "                      axis=(1,0,0)\n",
    "                      )\n",
    "\n",
    "Frame1 = Frame1Arrows + link1_mesh\n",
    "\n",
    "\n",
    "Frame1.apply_transform(T_01)  \n",
    "plt.show(Frame1, \n",
    "         axes, \n",
    "         viewup=\"z\")"
   ]
  },
  {
   "cell_type": "markdown",
   "id": "d5c8acd8",
   "metadata": {},
   "source": [
    "### Construct a local frame and its local transformation matrix\n",
    "Construct the matrix representing Frame ${\\mathcal F}\\{2\\}$, written w.r.t. \n",
    "Frame ${\\mathcal F}\\{1\\}$. "
   ]
  },
  {
   "cell_type": "code",
   "execution_count": 8,
   "id": "cd389a02",
   "metadata": {},
   "outputs": [
    {
     "name": "stdout",
     "output_type": "stream",
     "text": [
      "\n",
      "\n",
      "T_ij =  [[ 0.8660254  0.5        0.         5.       ]\n",
      "         [-0.5        0.8660254  0.         0.       ]\n",
      "         [ 0.         0.         1.         0.       ]\n",
      "         [ 0.         0.         0.         1.       ]]\n"
     ]
    },
    {
     "data": {
      "application/vnd.jupyter.widget-view+json": {
       "model_id": "5eb14a5ef2c54c5783df58ab196a2853",
       "version_major": 2,
       "version_minor": 0
      },
      "text/plain": [
       "ViewInteractiveWidget(height=960, layout=Layout(height='auto', width='100%'), width=960)"
      ]
     },
     "metadata": {},
     "output_type": "display_data"
    }
   ],
   "source": [
    "# Frame 2 (w.r.t. to Frame 1)\n",
    "\n",
    "R_12 = RotationMatrix(phi2, axis_name = 'z')   # Rotation matrix\n",
    "p2   = np.array([[L1],[0.0], [0.0]])           # Frame's origin (w.r.t. previous frame)\n",
    "t_12 = p2                                      # Translation vector\n",
    "\n",
    "# Matrix of Frame 2 w.r.t. Frame 1 \n",
    "T_12 = getLocalFrameMatrix(R_12, t_12)\n",
    "\n",
    "# Matrix of Frame 2 w.r.t. Frame 0 (i.e., the world frame)\n",
    "T_02 = T_01 @ T_12\n",
    "\n",
    "# Create the coordinate frame mesh and transform\n",
    "Frame2Arrows = createCoordinateFrameMesh()\n",
    "\n",
    "# Now, let's create a cylinder and add it to the local coordinate frame\n",
    "link2_mesh = Cylinder(r=0.4, \n",
    "                      height=L2, \n",
    "                      pos = (L2/2,0,0),\n",
    "                      c=\"yellow\", \n",
    "                      alpha=.8, \n",
    "                      axis=(1,0,0)\n",
    "                      )\n",
    "\n",
    "Frame2 = Frame2Arrows + link2_mesh\n",
    "\n",
    "\n",
    "Frame2.apply_transform(T_02)  \n",
    "plt.show([Frame1, Frame2], \n",
    "         axes, \n",
    "         viewup=\"z\")"
   ]
  },
  {
   "cell_type": "markdown",
   "id": "92db55c8",
   "metadata": {},
   "source": [
    "### Construct a local frame and its local transformation matrix\n",
    "Construct the matrix representing Frame ${\\mathcal F}\\{3\\}$, written w.r.t. \n",
    "Frame ${\\mathcal F}\\{2\\}$. In this case, there is no rotation between the frames (see diagram in Figure 1). "
   ]
  },
  {
   "cell_type": "code",
   "execution_count": 9,
   "id": "5a22acc0",
   "metadata": {},
   "outputs": [
    {
     "name": "stdout",
     "output_type": "stream",
     "text": [
      "\n",
      "\n",
      "T_ij =  [[ 1. -0.  0.  8.]\n",
      "         [ 0.  1.  0.  0.]\n",
      "         [ 0.  0.  1.  0.]\n",
      "         [ 0.  0.  0.  1.]]\n"
     ]
    },
    {
     "data": {
      "application/vnd.jupyter.widget-view+json": {
       "model_id": "90fd851eb76240939d3d2c60e0c545bc",
       "version_major": 2,
       "version_minor": 0
      },
      "text/plain": [
       "ViewInteractiveWidget(height=960, layout=Layout(height='auto', width='100%'), width=960)"
      ]
     },
     "metadata": {},
     "output_type": "display_data"
    }
   ],
   "source": [
    "# Frame 3 (w.r.t. to Frame 2)\n",
    "\n",
    "R_23 = RotationMatrix(phi3, axis_name = 'z')   # Rotation matrix\n",
    "p3   = np.array([[L2],[0.0], [0.0]])           # Frame's origin (w.r.t. previous frame)\n",
    "t_23 = p3                                      # Translation vector\n",
    "\n",
    "# Matrix of Frame 3 w.r.t. Frame 2 \n",
    "T_23 = getLocalFrameMatrix(R_23, t_23)\n",
    "\n",
    "# Matrix of Frame 3 w.r.t. Frame 0 (i.e., the world frame)\n",
    "T_03 = T_01 @ T_12 @ T_23\n",
    "\n",
    "# Create the coordinate frame mesh and transform\n",
    "Frame3 = createCoordinateFrameMesh()\n",
    "\n",
    "Frame3.apply_transform(T_03)  \n",
    "plt.show([Frame1, Frame2, Frame3], \n",
    "         axes, \n",
    "         viewup=\"z\")"
   ]
  },
  {
   "cell_type": "code",
   "execution_count": null,
   "id": "545c1ca0",
   "metadata": {},
   "outputs": [],
   "source": []
  },
  {
   "cell_type": "code",
   "execution_count": null,
   "id": "479fde8d",
   "metadata": {},
   "outputs": [],
   "source": []
  }
 ],
 "metadata": {
  "kernelspec": {
   "display_name": "Python 3",
   "language": "python",
   "name": "python3"
  },
  "language_info": {
   "codemirror_mode": {
    "name": "ipython",
    "version": 3
   },
   "file_extension": ".py",
   "mimetype": "text/x-python",
   "name": "python",
   "nbconvert_exporter": "python",
   "pygments_lexer": "ipython3",
   "version": "3.9.2"
  }
 },
 "nbformat": 4,
 "nbformat_minor": 5
}
